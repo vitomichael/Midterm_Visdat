{
  "nbformat": 4,
  "nbformat_minor": 0,
  "metadata": {
    "colab": {
      "name": "MIDTERM_Visdat_1301190090.ipynb",
      "provenance": [],
      "collapsed_sections": [
        "igr3Quej1rWu",
        "leP6rcoA1vIW"
      ]
    },
    "kernelspec": {
      "name": "python3",
      "display_name": "Python 3"
    },
    "language_info": {
      "name": "python"
    }
  },
  "cells": [
    {
      "cell_type": "markdown",
      "metadata": {
        "id": "rdbwu2Lq0nT1"
      },
      "source": [
        "# **MIDTERM PROJECT VISDAT**\n",
        "\n",
        "**Hanvito Michael Lee (1301190090)**\n"
      ]
    },
    {
      "cell_type": "code",
      "metadata": {
        "id": "8M72TLOKvAMT"
      },
      "source": [
        "import pandas as pd\n",
        "import seaborn as sns\n",
        "import numpy as np\n",
        "import matplotlib.pyplot as plt"
      ],
      "execution_count": 23,
      "outputs": []
    },
    {
      "cell_type": "code",
      "metadata": {
        "colab": {
          "base_uri": "https://localhost:8080/"
        },
        "id": "DWDRBhz3u7Kz",
        "outputId": "6956ab52-679c-4e15-cb8c-d1bb1677231c"
      },
      "source": [
        "!gdown --id 1nWcdNzhXAp87PkjsGmv0rYJzopMzgs58\n",
        "!gdown --id 1O4aaN2tLLhGwiRpjEhiMCovpQqQMP4JC"
      ],
      "execution_count": 24,
      "outputs": [
        {
          "output_type": "stream",
          "name": "stdout",
          "text": [
            "Downloading...\n",
            "From: https://drive.google.com/uc?id=1nWcdNzhXAp87PkjsGmv0rYJzopMzgs58\n",
            "To: /content/Data_Set_1.csv\n",
            "100% 1.15k/1.15k [00:00<00:00, 1.78MB/s]\n",
            "Downloading...\n",
            "From: https://drive.google.com/uc?id=1O4aaN2tLLhGwiRpjEhiMCovpQqQMP4JC\n",
            "To: /content/Data_Set_2.csv\n",
            "100% 2.82k/2.82k [00:00<00:00, 4.74MB/s]\n"
          ]
        }
      ]
    },
    {
      "cell_type": "markdown",
      "metadata": {
        "id": "eZAE44cL1KEB"
      },
      "source": [
        "# Dataset 1\n",
        "\n",
        "Data set ini terdiri dari data historis terkait dengan kasus COVID-19 di Indonesia pada \n",
        "periode 2 – 31 Maret 2020. Data historis yang tersedia di antaranya jumlah akumulatif \n",
        "tes sampel, terkonfirmasi positif, terkonfirmasi negatif, dan data lainnya. "
      ]
    },
    {
      "cell_type": "markdown",
      "metadata": {
        "id": "igr3Quej1rWu"
      },
      "source": [
        "**Data Understanding**\n"
      ]
    },
    {
      "cell_type": "code",
      "metadata": {
        "colab": {
          "base_uri": "https://localhost:8080/",
          "height": 204
        },
        "id": "XsdFz5Nr1Eea",
        "outputId": "4dcabbd1-def2-4f8b-a314-da27439249ac"
      },
      "source": [
        "df1 = pd.read_csv('Data_Set_1.csv')\n",
        "df1.head()"
      ],
      "execution_count": 25,
      "outputs": [
        {
          "output_type": "execute_result",
          "data": {
            "text/html": [
              "<div>\n",
              "<style scoped>\n",
              "    .dataframe tbody tr th:only-of-type {\n",
              "        vertical-align: middle;\n",
              "    }\n",
              "\n",
              "    .dataframe tbody tr th {\n",
              "        vertical-align: top;\n",
              "    }\n",
              "\n",
              "    .dataframe thead th {\n",
              "        text-align: right;\n",
              "    }\n",
              "</style>\n",
              "<table border=\"1\" class=\"dataframe\">\n",
              "  <thead>\n",
              "    <tr style=\"text-align: right;\">\n",
              "      <th></th>\n",
              "      <th>date</th>\n",
              "      <th>new_tested</th>\n",
              "      <th>acc_tested</th>\n",
              "      <th>new_confirmed</th>\n",
              "      <th>acc_confirmed</th>\n",
              "      <th>acc_negative</th>\n",
              "      <th>being_checked</th>\n",
              "      <th>isolated</th>\n",
              "    </tr>\n",
              "  </thead>\n",
              "  <tbody>\n",
              "    <tr>\n",
              "      <th>0</th>\n",
              "      <td>02-Mar-20</td>\n",
              "      <td>339</td>\n",
              "      <td>339</td>\n",
              "      <td>2</td>\n",
              "      <td>2</td>\n",
              "      <td>335</td>\n",
              "      <td>2</td>\n",
              "      <td>2</td>\n",
              "    </tr>\n",
              "    <tr>\n",
              "      <th>1</th>\n",
              "      <td>03-Mar-20</td>\n",
              "      <td>2</td>\n",
              "      <td>341</td>\n",
              "      <td>0</td>\n",
              "      <td>2</td>\n",
              "      <td>337</td>\n",
              "      <td>2</td>\n",
              "      <td>2</td>\n",
              "    </tr>\n",
              "    <tr>\n",
              "      <th>2</th>\n",
              "      <td>04-Mar-20</td>\n",
              "      <td>31</td>\n",
              "      <td>372</td>\n",
              "      <td>0</td>\n",
              "      <td>2</td>\n",
              "      <td>356</td>\n",
              "      <td>14</td>\n",
              "      <td>2</td>\n",
              "    </tr>\n",
              "    <tr>\n",
              "      <th>3</th>\n",
              "      <td>05-Mar-20</td>\n",
              "      <td>16</td>\n",
              "      <td>388</td>\n",
              "      <td>0</td>\n",
              "      <td>2</td>\n",
              "      <td>371</td>\n",
              "      <td>15</td>\n",
              "      <td>2</td>\n",
              "    </tr>\n",
              "    <tr>\n",
              "      <th>4</th>\n",
              "      <td>06-Mar-20</td>\n",
              "      <td>62</td>\n",
              "      <td>450</td>\n",
              "      <td>2</td>\n",
              "      <td>4</td>\n",
              "      <td>422</td>\n",
              "      <td>24</td>\n",
              "      <td>4</td>\n",
              "    </tr>\n",
              "  </tbody>\n",
              "</table>\n",
              "</div>"
            ],
            "text/plain": [
              "        date  new_tested  acc_tested  ...  acc_negative  being_checked  isolated\n",
              "0  02-Mar-20         339         339  ...           335              2         2\n",
              "1  03-Mar-20           2         341  ...           337              2         2\n",
              "2  04-Mar-20          31         372  ...           356             14         2\n",
              "3  05-Mar-20          16         388  ...           371             15         2\n",
              "4  06-Mar-20          62         450  ...           422             24         4\n",
              "\n",
              "[5 rows x 8 columns]"
            ]
          },
          "metadata": {},
          "execution_count": 25
        }
      ]
    },
    {
      "cell_type": "code",
      "metadata": {
        "colab": {
          "base_uri": "https://localhost:8080/"
        },
        "id": "LmeU_3Qz026t",
        "outputId": "416b376a-2cd0-4f80-f7d5-ddd31c8e91f6"
      },
      "source": [
        "df1.isnull().sum()"
      ],
      "execution_count": 26,
      "outputs": [
        {
          "output_type": "execute_result",
          "data": {
            "text/plain": [
              "date             0\n",
              "new_tested       0\n",
              "acc_tested       0\n",
              "new_confirmed    0\n",
              "acc_confirmed    0\n",
              "acc_negative     0\n",
              "being_checked    0\n",
              "isolated         0\n",
              "dtype: int64"
            ]
          },
          "metadata": {},
          "execution_count": 26
        }
      ]
    },
    {
      "cell_type": "code",
      "metadata": {
        "colab": {
          "base_uri": "https://localhost:8080/",
          "height": 297
        },
        "id": "rWiajiT_1bU_",
        "outputId": "8dac5099-810a-4dc8-abfd-95a9506832fe"
      },
      "source": [
        "df1.describe()"
      ],
      "execution_count": 27,
      "outputs": [
        {
          "output_type": "execute_result",
          "data": {
            "text/html": [
              "<div>\n",
              "<style scoped>\n",
              "    .dataframe tbody tr th:only-of-type {\n",
              "        vertical-align: middle;\n",
              "    }\n",
              "\n",
              "    .dataframe tbody tr th {\n",
              "        vertical-align: top;\n",
              "    }\n",
              "\n",
              "    .dataframe thead th {\n",
              "        text-align: right;\n",
              "    }\n",
              "</style>\n",
              "<table border=\"1\" class=\"dataframe\">\n",
              "  <thead>\n",
              "    <tr style=\"text-align: right;\">\n",
              "      <th></th>\n",
              "      <th>new_tested</th>\n",
              "      <th>acc_tested</th>\n",
              "      <th>new_confirmed</th>\n",
              "      <th>acc_confirmed</th>\n",
              "      <th>acc_negative</th>\n",
              "      <th>being_checked</th>\n",
              "      <th>isolated</th>\n",
              "    </tr>\n",
              "  </thead>\n",
              "  <tbody>\n",
              "    <tr>\n",
              "      <th>count</th>\n",
              "      <td>30.000000</td>\n",
              "      <td>30.000000</td>\n",
              "      <td>30.000000</td>\n",
              "      <td>30.000000</td>\n",
              "      <td>30.000000</td>\n",
              "      <td>30.000000</td>\n",
              "      <td>30.000000</td>\n",
              "    </tr>\n",
              "    <tr>\n",
              "      <th>mean</th>\n",
              "      <td>229.233333</td>\n",
              "      <td>2275.300000</td>\n",
              "      <td>50.933333</td>\n",
              "      <td>398.933333</td>\n",
              "      <td>1875.000000</td>\n",
              "      <td>13.000000</td>\n",
              "      <td>346.266667</td>\n",
              "    </tr>\n",
              "    <tr>\n",
              "      <th>std</th>\n",
              "      <td>281.828229</td>\n",
              "      <td>2153.042645</td>\n",
              "      <td>48.962993</td>\n",
              "      <td>480.433923</td>\n",
              "      <td>1680.618954</td>\n",
              "      <td>11.110728</td>\n",
              "      <td>414.461673</td>\n",
              "    </tr>\n",
              "    <tr>\n",
              "      <th>min</th>\n",
              "      <td>2.000000</td>\n",
              "      <td>339.000000</td>\n",
              "      <td>0.000000</td>\n",
              "      <td>2.000000</td>\n",
              "      <td>335.000000</td>\n",
              "      <td>0.000000</td>\n",
              "      <td>2.000000</td>\n",
              "    </tr>\n",
              "    <tr>\n",
              "      <th>25%</th>\n",
              "      <td>63.750000</td>\n",
              "      <td>580.750000</td>\n",
              "      <td>3.250000</td>\n",
              "      <td>21.000000</td>\n",
              "      <td>527.250000</td>\n",
              "      <td>0.000000</td>\n",
              "      <td>21.000000</td>\n",
              "    </tr>\n",
              "    <tr>\n",
              "      <th>50%</th>\n",
              "      <td>136.000000</td>\n",
              "      <td>1351.000000</td>\n",
              "      <td>36.500000</td>\n",
              "      <td>153.000000</td>\n",
              "      <td>1230.500000</td>\n",
              "      <td>15.000000</td>\n",
              "      <td>138.500000</td>\n",
              "    </tr>\n",
              "    <tr>\n",
              "      <th>75%</th>\n",
              "      <td>315.000000</td>\n",
              "      <td>3188.000000</td>\n",
              "      <td>97.750000</td>\n",
              "      <td>658.500000</td>\n",
              "      <td>2513.000000</td>\n",
              "      <td>20.000000</td>\n",
              "      <td>575.000000</td>\n",
              "    </tr>\n",
              "    <tr>\n",
              "      <th>max</th>\n",
              "      <td>1439.000000</td>\n",
              "      <td>6777.000000</td>\n",
              "      <td>153.000000</td>\n",
              "      <td>1528.000000</td>\n",
              "      <td>5249.000000</td>\n",
              "      <td>37.000000</td>\n",
              "      <td>1311.000000</td>\n",
              "    </tr>\n",
              "  </tbody>\n",
              "</table>\n",
              "</div>"
            ],
            "text/plain": [
              "        new_tested   acc_tested  ...  being_checked     isolated\n",
              "count    30.000000    30.000000  ...      30.000000    30.000000\n",
              "mean    229.233333  2275.300000  ...      13.000000   346.266667\n",
              "std     281.828229  2153.042645  ...      11.110728   414.461673\n",
              "min       2.000000   339.000000  ...       0.000000     2.000000\n",
              "25%      63.750000   580.750000  ...       0.000000    21.000000\n",
              "50%     136.000000  1351.000000  ...      15.000000   138.500000\n",
              "75%     315.000000  3188.000000  ...      20.000000   575.000000\n",
              "max    1439.000000  6777.000000  ...      37.000000  1311.000000\n",
              "\n",
              "[8 rows x 7 columns]"
            ]
          },
          "metadata": {},
          "execution_count": 27
        }
      ]
    },
    {
      "cell_type": "code",
      "metadata": {
        "colab": {
          "base_uri": "https://localhost:8080/"
        },
        "id": "ZEFPupEt1hha",
        "outputId": "24192018-a2ff-4639-e7d4-5886495a6e96"
      },
      "source": [
        "df1.info()"
      ],
      "execution_count": 28,
      "outputs": [
        {
          "output_type": "stream",
          "name": "stdout",
          "text": [
            "<class 'pandas.core.frame.DataFrame'>\n",
            "RangeIndex: 30 entries, 0 to 29\n",
            "Data columns (total 8 columns):\n",
            " #   Column         Non-Null Count  Dtype \n",
            "---  ------         --------------  ----- \n",
            " 0   date           30 non-null     object\n",
            " 1   new_tested     30 non-null     int64 \n",
            " 2   acc_tested     30 non-null     int64 \n",
            " 3   new_confirmed  30 non-null     int64 \n",
            " 4   acc_confirmed  30 non-null     int64 \n",
            " 5   acc_negative   30 non-null     int64 \n",
            " 6   being_checked  30 non-null     int64 \n",
            " 7   isolated       30 non-null     int64 \n",
            "dtypes: int64(7), object(1)\n",
            "memory usage: 2.0+ KB\n"
          ]
        }
      ]
    },
    {
      "cell_type": "markdown",
      "metadata": {
        "id": "leP6rcoA1vIW"
      },
      "source": [
        "#**Soal 1**\n",
        "\n",
        "Dengan menggunakan line plot, tampilkan perbandingan jumlah akumulatif tes sampel, terkonfirmasi positif dan terkonfirmasi negatif untuk periode waktu yang tersedia."
      ]
    },
    {
      "cell_type": "code",
      "metadata": {
        "colab": {
          "base_uri": "https://localhost:8080/",
          "height": 0
        },
        "id": "nykX7rn476ZW",
        "outputId": "b61f3369-b128-45d4-9367-fae39f2f2139"
      },
      "source": [
        "df1.plot(x=\"date\", y=[\"acc_tested\", \"acc_confirmed\", \"acc_negative\"])\n",
        "plt.show()"
      ],
      "execution_count": 29,
      "outputs": [
        {
          "output_type": "display_data",
          "data": {
            "image/png": "[encoded data removed]",
            "text/plain": [
              "<Figure size 432x288 with 1 Axes>"
            ]
          },
          "metadata": {
            "needs_background": "light"
          }
        }
      ]
    },
    {
      "cell_type": "markdown",
      "metadata": {
        "id": "wo-krTnX8pOb"
      },
      "source": [
        "#**Soal 2**\n",
        "• Hitunglah nilai positive rate dan negative rate untuk masing-masing waktu.\n",
        "\n",
        "• Dengan menggunakan bar plot, tampilkan perbandingan positivity rate dan \n",
        "negativity rate untuk periode waktu yang tersedia.\n",
        "\n",
        "• Pada tanggal berapa nilai positive rate menunjukkan nilai tertinggi?\n",
        "\n",
        "• Pada tanggal berapa nilai negative rate menunjukkan nilai tertinggi?"
      ]
    },
    {
      "cell_type": "code",
      "metadata": {
        "colab": {
          "base_uri": "https://localhost:8080/",
          "height": 204
        },
        "id": "XAD-c9I383ME",
        "outputId": "91e34414-0209-4c1d-bbf6-a340d8e49c7a"
      },
      "source": [
        "df1['Positive_Rate'] = df1['acc_confirmed'] / df1['acc_tested'] * 100\n",
        "df1['Negative_Rate'] = df1['acc_negative'] / df1['acc_tested'] * 100\n",
        "df1.head()"
      ],
      "execution_count": 30,
      "outputs": [
        {
          "output_type": "execute_result",
          "data": {
            "text/html": [
              "<div>\n",
              "<style scoped>\n",
              "    .dataframe tbody tr th:only-of-type {\n",
              "        vertical-align: middle;\n",
              "    }\n",
              "\n",
              "    .dataframe tbody tr th {\n",
              "        vertical-align: top;\n",
              "    }\n",
              "\n",
              "    .dataframe thead th {\n",
              "        text-align: right;\n",
              "    }\n",
              "</style>\n",
              "<table border=\"1\" class=\"dataframe\">\n",
              "  <thead>\n",
              "    <tr style=\"text-align: right;\">\n",
              "      <th></th>\n",
              "      <th>date</th>\n",
              "      <th>new_tested</th>\n",
              "      <th>acc_tested</th>\n",
              "      <th>new_confirmed</th>\n",
              "      <th>acc_confirmed</th>\n",
              "      <th>acc_negative</th>\n",
              "      <th>being_checked</th>\n",
              "      <th>isolated</th>\n",
              "      <th>Positive_Rate</th>\n",
              "      <th>Negative_Rate</th>\n",
              "    </tr>\n",
              "  </thead>\n",
              "  <tbody>\n",
              "    <tr>\n",
              "      <th>0</th>\n",
              "      <td>02-Mar-20</td>\n",
              "      <td>339</td>\n",
              "      <td>339</td>\n",
              "      <td>2</td>\n",
              "      <td>2</td>\n",
              "      <td>335</td>\n",
              "      <td>2</td>\n",
              "      <td>2</td>\n",
              "      <td>0.589971</td>\n",
              "      <td>98.820059</td>\n",
              "    </tr>\n",
              "    <tr>\n",
              "      <th>1</th>\n",
              "      <td>03-Mar-20</td>\n",
              "      <td>2</td>\n",
              "      <td>341</td>\n",
              "      <td>0</td>\n",
              "      <td>2</td>\n",
              "      <td>337</td>\n",
              "      <td>2</td>\n",
              "      <td>2</td>\n",
              "      <td>0.586510</td>\n",
              "      <td>98.826979</td>\n",
              "    </tr>\n",
              "    <tr>\n",
              "      <th>2</th>\n",
              "      <td>04-Mar-20</td>\n",
              "      <td>31</td>\n",
              "      <td>372</td>\n",
              "      <td>0</td>\n",
              "      <td>2</td>\n",
              "      <td>356</td>\n",
              "      <td>14</td>\n",
              "      <td>2</td>\n",
              "      <td>0.537634</td>\n",
              "      <td>95.698925</td>\n",
              "    </tr>\n",
              "    <tr>\n",
              "      <th>3</th>\n",
              "      <td>05-Mar-20</td>\n",
              "      <td>16</td>\n",
              "      <td>388</td>\n",
              "      <td>0</td>\n",
              "      <td>2</td>\n",
              "      <td>371</td>\n",
              "      <td>15</td>\n",
              "      <td>2</td>\n",
              "      <td>0.515464</td>\n",
              "      <td>95.618557</td>\n",
              "    </tr>\n",
              "    <tr>\n",
              "      <th>4</th>\n",
              "      <td>06-Mar-20</td>\n",
              "      <td>62</td>\n",
              "      <td>450</td>\n",
              "      <td>2</td>\n",
              "      <td>4</td>\n",
              "      <td>422</td>\n",
              "      <td>24</td>\n",
              "      <td>4</td>\n",
              "      <td>0.888889</td>\n",
              "      <td>93.777778</td>\n",
              "    </tr>\n",
              "  </tbody>\n",
              "</table>\n",
              "</div>"
            ],
            "text/plain": [
              "        date  new_tested  acc_tested  ...  isolated  Positive_Rate  Negative_Rate\n",
              "0  02-Mar-20         339         339  ...         2       0.589971      98.820059\n",
              "1  03-Mar-20           2         341  ...         2       0.586510      98.826979\n",
              "2  04-Mar-20          31         372  ...         2       0.537634      95.698925\n",
              "3  05-Mar-20          16         388  ...         2       0.515464      95.618557\n",
              "4  06-Mar-20          62         450  ...         4       0.888889      93.777778\n",
              "\n",
              "[5 rows x 10 columns]"
            ]
          },
          "metadata": {},
          "execution_count": 30
        }
      ]
    },
    {
      "cell_type": "code",
      "metadata": {
        "colab": {
          "base_uri": "https://localhost:8080/",
          "height": 445
        },
        "id": "4DH9onKyAWDG",
        "outputId": "bf10767d-593c-4dfe-f713-d17a1871ea36"
      },
      "source": [
        "df1.plot(x=\"date\", y=[\"Positive_Rate\", \"Negative_Rate\"],\n",
        "          kind ='bar', \n",
        "          figsize=(10, 6),\n",
        "          alpha=0.7,\n",
        "         )\n",
        "\n",
        "plt.title('Positive And Negative Rate')\n",
        "plt.ylabel('Rate (in percent)')\n",
        "plt.xlabel('Date')\n",
        "\n",
        "plt.show()"
      ],
      "execution_count": 31,
      "outputs": [
        {
          "output_type": "display_data",
          "data": {
            "image/png": "[encoded data removed]",
            "text/plain": [
              "<Figure size 720x432 with 1 Axes>"
            ]
          },
          "metadata": {
            "needs_background": "light"
          }
        }
      ]
    },
    {
      "cell_type": "code",
      "metadata": {
        "colab": {
          "base_uri": "https://localhost:8080/"
        },
        "id": "UaltjPPQBgHh",
        "outputId": "2904078b-9119-4911-9c97-a5c4c50785e5"
      },
      "source": [
        "max_positive = df1['Positive_Rate'].max()\n",
        "df1.loc[df1['Positive_Rate'] == max_positive, 'date']"
      ],
      "execution_count": 32,
      "outputs": [
        {
          "output_type": "execute_result",
          "data": {
            "text/plain": [
              "29    31-Mar-20\n",
              "Name: date, dtype: object"
            ]
          },
          "metadata": {},
          "execution_count": 32
        }
      ]
    },
    {
      "cell_type": "markdown",
      "metadata": {
        "id": "lAxsYCR4EwSY"
      },
      "source": [
        "***Jawaban***\n",
        "\n",
        "Terlihat bahwa nilai positive rate tertinggi terjadi pada tanggal 31-Maret-20 Seperti yang terlihat pada barplot. Statement ini didukung juga dengan pencarian nilai maksimum pada kolom Positive Rate yang menghasilkan tanggal 31-Mar-2020 Sebagai Outputnya.\n"
      ]
    },
    {
      "cell_type": "code",
      "metadata": {
        "colab": {
          "base_uri": "https://localhost:8080/"
        },
        "id": "VVOcIPVYFL8Q",
        "outputId": "dc61001d-a7f7-4c36-9396-c5b8d62fdab2"
      },
      "source": [
        "max_negative = df1['Negative_Rate'].max()\n",
        "df1.loc[df1['Negative_Rate'] == max_negative, 'date']"
      ],
      "execution_count": 33,
      "outputs": [
        {
          "output_type": "execute_result",
          "data": {
            "text/plain": [
              "1    03-Mar-20\n",
              "Name: date, dtype: object"
            ]
          },
          "metadata": {},
          "execution_count": 33
        }
      ]
    },
    {
      "cell_type": "markdown",
      "metadata": {
        "id": "P69pD8zYFU1h"
      },
      "source": [
        "***Jawaban***\n",
        "\n",
        "Terlihat bahwa nilai negative rate tertinggi terjadi pada tanggal 3-Maret-20 Seperti yang terlihat pada barplot. Statement ini didukung juga dengan pencarian nilai maksimum pada kolom Negative Rate yang menghasilkan tanggal 3-Mar-20 Sebagai Outputnya."
      ]
    },
    {
      "cell_type": "markdown",
      "metadata": {
        "id": "biKz3gjiFgKr"
      },
      "source": [
        "# **Soal 3**\n",
        "\n",
        "• Dengan menggunakan heatmap, tunjukkan korelasi antar variabel yang ada pada \n",
        "dataset.\n",
        "\n",
        "• Tentukan variabel-variabel yang memiliki nilai korelasi paling positif, dan berikan \n",
        "penjelasan terkait nilai korelasi tersebut.\n",
        "\n",
        "• Tentukan variabel-variabel yang memiliki nilai korelasi paling negatif, dan berikan \n",
        "penjelasan terkait nilai korelasi tersebut"
      ]
    },
    {
      "cell_type": "code",
      "metadata": {
        "colab": {
          "base_uri": "https://localhost:8080/",
          "height": 397
        },
        "id": "uMgHe9VlFyKz",
        "outputId": "6f5551a8-47f6-4f78-f9aa-d7730513d8a2"
      },
      "source": [
        "df1 = df1.drop(['Positive_Rate', 'Negative_Rate'], axis=1)\n",
        "\n",
        "plt.figure(figsize=(16, 6))\n",
        "heatmap = sns.heatmap(df1.corr(), vmin=-1, vmax=1, annot=True)\n",
        "heatmap.set_title('Correlation Heatmap', fontdict={'fontsize':12}, pad=12);"
      ],
      "execution_count": 34,
      "outputs": [
        {
          "output_type": "display_data",
          "data": {
            "image/png": "[encoded data removed]",
            "text/plain": [
              "<Figure size 1152x432 with 2 Axes>"
            ]
          },
          "metadata": {
            "needs_background": "light"
          }
        }
      ]
    },
    {
      "cell_type": "markdown",
      "metadata": {
        "id": "_90GMNmCGYkG"
      },
      "source": [
        "**Jawaban**\n",
        "\n",
        "*Variabel-variabel yang memiliki korelasi positive paling tinggi*\n",
        "\n",
        "1. acc_negative -- acc_tested dengan korelasi 1 yang artinya ketika acc_tested bertambah maka acc_negative juga akan bertambah. Begitupun sebaliknya.\n",
        "2. isolated -- acc_confirmed dengan korelasi 1 yang artinya ketika acc confirmed bertambah maka isolated juga akan bertambah.\n",
        "\n",
        "*Variabel-variabel yang memiliki korelasi negative paling tinggi*\n",
        "\n",
        "1. being_checked -- acc_tested dengan nilai korelasi -0.61. nilai acc tested bertolak belakang dengan nilai being-checked.\n",
        "2. being_checked -- acc_negative dengan nilai korelasi -0.61. Nilai acc negative dengan nilai being_checked berbanding terbalik."
      ]
    },
    {
      "cell_type": "markdown",
      "metadata": {
        "id": "rXslbDdlNjaQ"
      },
      "source": [
        "#**Dataset 2**\n",
        "\n",
        "Data set ini menyajikan data spasial terkait kasus COVID-19 di masing-masing provinsi \n",
        "di Indonesia. Data yang disajikan di antaranya jumlah populasi, jumlah kasus positif, dan \n",
        "lain-lain"
      ]
    },
    {
      "cell_type": "markdown",
      "metadata": {
        "id": "S1lQ8kX8N8Su"
      },
      "source": [
        "**Data Understanding**"
      ]
    },
    {
      "cell_type": "code",
      "metadata": {
        "colab": {
          "base_uri": "https://localhost:8080/",
          "height": 204
        },
        "id": "gIxd-Ls8Nm1Q",
        "outputId": "17771a2f-07ff-4950-c6ec-fbe199f87dbb"
      },
      "source": [
        "df2 = pd.read_csv('Data_Set_2.csv')\n",
        "df2.head()"
      ],
      "execution_count": 35,
      "outputs": [
        {
          "output_type": "execute_result",
          "data": {
            "text/html": [
              "<div>\n",
              "<style scoped>\n",
              "    .dataframe tbody tr th:only-of-type {\n",
              "        vertical-align: middle;\n",
              "    }\n",
              "\n",
              "    .dataframe tbody tr th {\n",
              "        vertical-align: top;\n",
              "    }\n",
              "\n",
              "    .dataframe thead th {\n",
              "        text-align: right;\n",
              "    }\n",
              "</style>\n",
              "<table border=\"1\" class=\"dataframe\">\n",
              "  <thead>\n",
              "    <tr style=\"text-align: right;\">\n",
              "      <th></th>\n",
              "      <th>province_id</th>\n",
              "      <th>province_name</th>\n",
              "      <th>island</th>\n",
              "      <th>iso_code</th>\n",
              "      <th>capital_city</th>\n",
              "      <th>population</th>\n",
              "      <th>population_kmsquare</th>\n",
              "      <th>confirmed</th>\n",
              "      <th>deceased</th>\n",
              "      <th>released</th>\n",
              "      <th>longitude</th>\n",
              "      <th>latitude</th>\n",
              "    </tr>\n",
              "  </thead>\n",
              "  <tbody>\n",
              "    <tr>\n",
              "      <th>0</th>\n",
              "      <td>1</td>\n",
              "      <td>Aceh</td>\n",
              "      <td>Sumatra</td>\n",
              "      <td>AC</td>\n",
              "      <td>Banda Aceh</td>\n",
              "      <td>4906835</td>\n",
              "      <td>86</td>\n",
              "      <td>4</td>\n",
              "      <td>0</td>\n",
              "      <td>0</td>\n",
              "      <td>9.672.895</td>\n",
              "      <td>3.869.994</td>\n",
              "    </tr>\n",
              "    <tr>\n",
              "      <th>1</th>\n",
              "      <td>2</td>\n",
              "      <td>Bali</td>\n",
              "      <td>Kepulauan Nusa Tenggara</td>\n",
              "      <td>BA</td>\n",
              "      <td>Denpasar</td>\n",
              "      <td>4104900</td>\n",
              "      <td>738</td>\n",
              "      <td>9</td>\n",
              "      <td>2</td>\n",
              "      <td>0</td>\n",
              "      <td>11.512.255</td>\n",
              "      <td>-825.731</td>\n",
              "    </tr>\n",
              "    <tr>\n",
              "      <th>2</th>\n",
              "      <td>3</td>\n",
              "      <td>Banten</td>\n",
              "      <td>Jawa</td>\n",
              "      <td>BT</td>\n",
              "      <td>Serang</td>\n",
              "      <td>11704877</td>\n",
              "      <td>1298</td>\n",
              "      <td>84</td>\n",
              "      <td>4</td>\n",
              "      <td>1</td>\n",
              "      <td>106.160.889</td>\n",
              "      <td>-6.315.299</td>\n",
              "    </tr>\n",
              "    <tr>\n",
              "      <th>3</th>\n",
              "      <td>4</td>\n",
              "      <td>Bengkulu</td>\n",
              "      <td>Sumatra</td>\n",
              "      <td>BE</td>\n",
              "      <td>Bengkulu</td>\n",
              "      <td>1844800</td>\n",
              "      <td>93</td>\n",
              "      <td>0</td>\n",
              "      <td>0</td>\n",
              "      <td>0</td>\n",
              "      <td>102.315.674</td>\n",
              "      <td>-3.414.725</td>\n",
              "    </tr>\n",
              "    <tr>\n",
              "      <th>4</th>\n",
              "      <td>5</td>\n",
              "      <td>DI Yogyakarta</td>\n",
              "      <td>Jawa</td>\n",
              "      <td>YO</td>\n",
              "      <td>Yogyakarta</td>\n",
              "      <td>3553100</td>\n",
              "      <td>1134</td>\n",
              "      <td>22</td>\n",
              "      <td>2</td>\n",
              "      <td>1</td>\n",
              "      <td>110.390.625</td>\n",
              "      <td>-7.863.382</td>\n",
              "    </tr>\n",
              "  </tbody>\n",
              "</table>\n",
              "</div>"
            ],
            "text/plain": [
              "   province_id  province_name  ...    longitude    latitude\n",
              "0            1           Aceh  ...    9.672.895   3.869.994\n",
              "1            2           Bali  ...   11.512.255    -825.731\n",
              "2            3         Banten  ...  106.160.889  -6.315.299\n",
              "3            4       Bengkulu  ...  102.315.674  -3.414.725\n",
              "4            5  DI Yogyakarta  ...  110.390.625  -7.863.382\n",
              "\n",
              "[5 rows x 12 columns]"
            ]
          },
          "metadata": {},
          "execution_count": 35
        }
      ]
    },
    {
      "cell_type": "code",
      "metadata": {
        "colab": {
          "base_uri": "https://localhost:8080/"
        },
        "id": "zYttDhriOAzc",
        "outputId": "8eff67a7-0964-4494-c1f8-d4204acd8513"
      },
      "source": [
        "df2.isnull().sum()"
      ],
      "execution_count": 36,
      "outputs": [
        {
          "output_type": "execute_result",
          "data": {
            "text/plain": [
              "province_id            0\n",
              "province_name          0\n",
              "island                 0\n",
              "iso_code               0\n",
              "capital_city           0\n",
              "population             0\n",
              "population_kmsquare    0\n",
              "confirmed              0\n",
              "deceased               0\n",
              "released               0\n",
              "longitude              0\n",
              "latitude               0\n",
              "dtype: int64"
            ]
          },
          "metadata": {},
          "execution_count": 36
        }
      ]
    },
    {
      "cell_type": "code",
      "metadata": {
        "colab": {
          "base_uri": "https://localhost:8080/",
          "height": 297
        },
        "id": "TrokrnV0ODmA",
        "outputId": "ee3599f3-ae28-4088-ff2b-a4ea8632f903"
      },
      "source": [
        "df2.describe()"
      ],
      "execution_count": 37,
      "outputs": [
        {
          "output_type": "execute_result",
          "data": {
            "text/html": [
              "<div>\n",
              "<style scoped>\n",
              "    .dataframe tbody tr th:only-of-type {\n",
              "        vertical-align: middle;\n",
              "    }\n",
              "\n",
              "    .dataframe tbody tr th {\n",
              "        vertical-align: top;\n",
              "    }\n",
              "\n",
              "    .dataframe thead th {\n",
              "        text-align: right;\n",
              "    }\n",
              "</style>\n",
              "<table border=\"1\" class=\"dataframe\">\n",
              "  <thead>\n",
              "    <tr style=\"text-align: right;\">\n",
              "      <th></th>\n",
              "      <th>province_id</th>\n",
              "      <th>population</th>\n",
              "      <th>population_kmsquare</th>\n",
              "      <th>confirmed</th>\n",
              "      <th>deceased</th>\n",
              "      <th>released</th>\n",
              "    </tr>\n",
              "  </thead>\n",
              "  <tbody>\n",
              "    <tr>\n",
              "      <th>count</th>\n",
              "      <td>34.000000</td>\n",
              "      <td>3.400000e+01</td>\n",
              "      <td>34.000000</td>\n",
              "      <td>34.000000</td>\n",
              "      <td>34.000000</td>\n",
              "      <td>34.000000</td>\n",
              "    </tr>\n",
              "    <tr>\n",
              "      <th>mean</th>\n",
              "      <td>17.500000</td>\n",
              "      <td>7.412293e+06</td>\n",
              "      <td>297.558824</td>\n",
              "      <td>29.911765</td>\n",
              "      <td>2.529412</td>\n",
              "      <td>1.352941</td>\n",
              "    </tr>\n",
              "    <tr>\n",
              "      <th>std</th>\n",
              "      <td>9.958246</td>\n",
              "      <td>1.068707e+07</td>\n",
              "      <td>427.403733</td>\n",
              "      <td>103.257069</td>\n",
              "      <td>8.975506</td>\n",
              "      <td>5.476575</td>\n",
              "    </tr>\n",
              "    <tr>\n",
              "      <th>min</th>\n",
              "      <td>1.000000</td>\n",
              "      <td>6.183840e+05</td>\n",
              "      <td>2.000000</td>\n",
              "      <td>0.000000</td>\n",
              "      <td>0.000000</td>\n",
              "      <td>0.000000</td>\n",
              "    </tr>\n",
              "    <tr>\n",
              "      <th>25%</th>\n",
              "      <td>9.250000</td>\n",
              "      <td>2.034712e+06</td>\n",
              "      <td>47.250000</td>\n",
              "      <td>1.000000</td>\n",
              "      <td>0.000000</td>\n",
              "      <td>0.000000</td>\n",
              "    </tr>\n",
              "    <tr>\n",
              "      <th>50%</th>\n",
              "      <td>17.500000</td>\n",
              "      <td>3.737945e+06</td>\n",
              "      <td>93.000000</td>\n",
              "      <td>3.500000</td>\n",
              "      <td>0.000000</td>\n",
              "      <td>0.000000</td>\n",
              "    </tr>\n",
              "    <tr>\n",
              "      <th>75%</th>\n",
              "      <td>25.750000</td>\n",
              "      <td>7.503236e+06</td>\n",
              "      <td>234.500000</td>\n",
              "      <td>8.750000</td>\n",
              "      <td>1.000000</td>\n",
              "      <td>0.000000</td>\n",
              "    </tr>\n",
              "    <tr>\n",
              "      <th>max</th>\n",
              "      <td>34.000000</td>\n",
              "      <td>4.602967e+07</td>\n",
              "      <td>1353.000000</td>\n",
              "      <td>598.000000</td>\n",
              "      <td>51.000000</td>\n",
              "      <td>31.000000</td>\n",
              "    </tr>\n",
              "  </tbody>\n",
              "</table>\n",
              "</div>"
            ],
            "text/plain": [
              "       province_id    population  ...   deceased   released\n",
              "count    34.000000  3.400000e+01  ...  34.000000  34.000000\n",
              "mean     17.500000  7.412293e+06  ...   2.529412   1.352941\n",
              "std       9.958246  1.068707e+07  ...   8.975506   5.476575\n",
              "min       1.000000  6.183840e+05  ...   0.000000   0.000000\n",
              "25%       9.250000  2.034712e+06  ...   0.000000   0.000000\n",
              "50%      17.500000  3.737945e+06  ...   0.000000   0.000000\n",
              "75%      25.750000  7.503236e+06  ...   1.000000   0.000000\n",
              "max      34.000000  4.602967e+07  ...  51.000000  31.000000\n",
              "\n",
              "[8 rows x 6 columns]"
            ]
          },
          "metadata": {},
          "execution_count": 37
        }
      ]
    },
    {
      "cell_type": "code",
      "metadata": {
        "colab": {
          "base_uri": "https://localhost:8080/"
        },
        "id": "tYTcPZZ_OGDG",
        "outputId": "7db66917-46e6-4441-b741-c9ff0b4542e3"
      },
      "source": [
        "df2.info()"
      ],
      "execution_count": 38,
      "outputs": [
        {
          "output_type": "stream",
          "name": "stdout",
          "text": [
            "<class 'pandas.core.frame.DataFrame'>\n",
            "RangeIndex: 34 entries, 0 to 33\n",
            "Data columns (total 12 columns):\n",
            " #   Column               Non-Null Count  Dtype \n",
            "---  ------               --------------  ----- \n",
            " 0   province_id          34 non-null     int64 \n",
            " 1   province_name        34 non-null     object\n",
            " 2   island               34 non-null     object\n",
            " 3   iso_code             34 non-null     object\n",
            " 4   capital_city         34 non-null     object\n",
            " 5   population           34 non-null     int64 \n",
            " 6   population_kmsquare  34 non-null     int64 \n",
            " 7   confirmed            34 non-null     int64 \n",
            " 8   deceased             34 non-null     int64 \n",
            " 9   released             34 non-null     int64 \n",
            " 10  longitude            34 non-null     object\n",
            " 11  latitude             34 non-null     object\n",
            "dtypes: int64(6), object(6)\n",
            "memory usage: 3.3+ KB\n"
          ]
        }
      ]
    },
    {
      "cell_type": "markdown",
      "metadata": {
        "id": "jva9xZLTOKMn"
      },
      "source": [
        "#Soal 4\n",
        "\n",
        "• Hitunglah nilai persentase perbandingan jumlah terkonfirmasi positif terhadap \n",
        "populasi per km2 untuk masing-masing provinsi.\n",
        "\n",
        "• Dengan menggunakan bar plot, tampilkan perbandingan nilai persentase tersebut \n",
        "untuk masing-masing provinsi.\n",
        "\n",
        "• Tampilkan 3 provinsi dengan nilai persentasi terbesar beserta nilai persentasenya."
      ]
    },
    {
      "cell_type": "code",
      "metadata": {
        "colab": {
          "base_uri": "https://localhost:8080/",
          "height": 204
        },
        "id": "W-mREu6HOPCv",
        "outputId": "d2c20cc0-47e7-4537-e193-08f0ab333d33"
      },
      "source": [
        "df2.head()"
      ],
      "execution_count": 39,
      "outputs": [
        {
          "output_type": "execute_result",
          "data": {
            "text/html": [
              "<div>\n",
              "<style scoped>\n",
              "    .dataframe tbody tr th:only-of-type {\n",
              "        vertical-align: middle;\n",
              "    }\n",
              "\n",
              "    .dataframe tbody tr th {\n",
              "        vertical-align: top;\n",
              "    }\n",
              "\n",
              "    .dataframe thead th {\n",
              "        text-align: right;\n",
              "    }\n",
              "</style>\n",
              "<table border=\"1\" class=\"dataframe\">\n",
              "  <thead>\n",
              "    <tr style=\"text-align: right;\">\n",
              "      <th></th>\n",
              "      <th>province_id</th>\n",
              "      <th>province_name</th>\n",
              "      <th>island</th>\n",
              "      <th>iso_code</th>\n",
              "      <th>capital_city</th>\n",
              "      <th>population</th>\n",
              "      <th>population_kmsquare</th>\n",
              "      <th>confirmed</th>\n",
              "      <th>deceased</th>\n",
              "      <th>released</th>\n",
              "      <th>longitude</th>\n",
              "      <th>latitude</th>\n",
              "    </tr>\n",
              "  </thead>\n",
              "  <tbody>\n",
              "    <tr>\n",
              "      <th>0</th>\n",
              "      <td>1</td>\n",
              "      <td>Aceh</td>\n",
              "      <td>Sumatra</td>\n",
              "      <td>AC</td>\n",
              "      <td>Banda Aceh</td>\n",
              "      <td>4906835</td>\n",
              "      <td>86</td>\n",
              "      <td>4</td>\n",
              "      <td>0</td>\n",
              "      <td>0</td>\n",
              "      <td>9.672.895</td>\n",
              "      <td>3.869.994</td>\n",
              "    </tr>\n",
              "    <tr>\n",
              "      <th>1</th>\n",
              "      <td>2</td>\n",
              "      <td>Bali</td>\n",
              "      <td>Kepulauan Nusa Tenggara</td>\n",
              "      <td>BA</td>\n",
              "      <td>Denpasar</td>\n",
              "      <td>4104900</td>\n",
              "      <td>738</td>\n",
              "      <td>9</td>\n",
              "      <td>2</td>\n",
              "      <td>0</td>\n",
              "      <td>11.512.255</td>\n",
              "      <td>-825.731</td>\n",
              "    </tr>\n",
              "    <tr>\n",
              "      <th>2</th>\n",
              "      <td>3</td>\n",
              "      <td>Banten</td>\n",
              "      <td>Jawa</td>\n",
              "      <td>BT</td>\n",
              "      <td>Serang</td>\n",
              "      <td>11704877</td>\n",
              "      <td>1298</td>\n",
              "      <td>84</td>\n",
              "      <td>4</td>\n",
              "      <td>1</td>\n",
              "      <td>106.160.889</td>\n",
              "      <td>-6.315.299</td>\n",
              "    </tr>\n",
              "    <tr>\n",
              "      <th>3</th>\n",
              "      <td>4</td>\n",
              "      <td>Bengkulu</td>\n",
              "      <td>Sumatra</td>\n",
              "      <td>BE</td>\n",
              "      <td>Bengkulu</td>\n",
              "      <td>1844800</td>\n",
              "      <td>93</td>\n",
              "      <td>0</td>\n",
              "      <td>0</td>\n",
              "      <td>0</td>\n",
              "      <td>102.315.674</td>\n",
              "      <td>-3.414.725</td>\n",
              "    </tr>\n",
              "    <tr>\n",
              "      <th>4</th>\n",
              "      <td>5</td>\n",
              "      <td>DI Yogyakarta</td>\n",
              "      <td>Jawa</td>\n",
              "      <td>YO</td>\n",
              "      <td>Yogyakarta</td>\n",
              "      <td>3553100</td>\n",
              "      <td>1134</td>\n",
              "      <td>22</td>\n",
              "      <td>2</td>\n",
              "      <td>1</td>\n",
              "      <td>110.390.625</td>\n",
              "      <td>-7.863.382</td>\n",
              "    </tr>\n",
              "  </tbody>\n",
              "</table>\n",
              "</div>"
            ],
            "text/plain": [
              "   province_id  province_name  ...    longitude    latitude\n",
              "0            1           Aceh  ...    9.672.895   3.869.994\n",
              "1            2           Bali  ...   11.512.255    -825.731\n",
              "2            3         Banten  ...  106.160.889  -6.315.299\n",
              "3            4       Bengkulu  ...  102.315.674  -3.414.725\n",
              "4            5  DI Yogyakarta  ...  110.390.625  -7.863.382\n",
              "\n",
              "[5 rows x 12 columns]"
            ]
          },
          "metadata": {},
          "execution_count": 39
        }
      ]
    },
    {
      "cell_type": "code",
      "metadata": {
        "colab": {
          "base_uri": "https://localhost:8080/",
          "height": 221
        },
        "id": "sn9o85eeOcdk",
        "outputId": "af7e7bc5-fb63-4d39-dbe0-aeb363c21cba"
      },
      "source": [
        "df2['Positive_Rate'] = df2['confirmed'] / df2['population_kmsquare'] * 100\n",
        "df2.head()"
      ],
      "execution_count": 40,
      "outputs": [
        {
          "output_type": "execute_result",
          "data": {
            "text/html": [
              "<div>\n",
              "<style scoped>\n",
              "    .dataframe tbody tr th:only-of-type {\n",
              "        vertical-align: middle;\n",
              "    }\n",
              "\n",
              "    .dataframe tbody tr th {\n",
              "        vertical-align: top;\n",
              "    }\n",
              "\n",
              "    .dataframe thead th {\n",
              "        text-align: right;\n",
              "    }\n",
              "</style>\n",
              "<table border=\"1\" class=\"dataframe\">\n",
              "  <thead>\n",
              "    <tr style=\"text-align: right;\">\n",
              "      <th></th>\n",
              "      <th>province_id</th>\n",
              "      <th>province_name</th>\n",
              "      <th>island</th>\n",
              "      <th>iso_code</th>\n",
              "      <th>capital_city</th>\n",
              "      <th>population</th>\n",
              "      <th>population_kmsquare</th>\n",
              "      <th>confirmed</th>\n",
              "      <th>deceased</th>\n",
              "      <th>released</th>\n",
              "      <th>longitude</th>\n",
              "      <th>latitude</th>\n",
              "      <th>Positive_Rate</th>\n",
              "    </tr>\n",
              "  </thead>\n",
              "  <tbody>\n",
              "    <tr>\n",
              "      <th>0</th>\n",
              "      <td>1</td>\n",
              "      <td>Aceh</td>\n",
              "      <td>Sumatra</td>\n",
              "      <td>AC</td>\n",
              "      <td>Banda Aceh</td>\n",
              "      <td>4906835</td>\n",
              "      <td>86</td>\n",
              "      <td>4</td>\n",
              "      <td>0</td>\n",
              "      <td>0</td>\n",
              "      <td>9.672.895</td>\n",
              "      <td>3.869.994</td>\n",
              "      <td>4.651163</td>\n",
              "    </tr>\n",
              "    <tr>\n",
              "      <th>1</th>\n",
              "      <td>2</td>\n",
              "      <td>Bali</td>\n",
              "      <td>Kepulauan Nusa Tenggara</td>\n",
              "      <td>BA</td>\n",
              "      <td>Denpasar</td>\n",
              "      <td>4104900</td>\n",
              "      <td>738</td>\n",
              "      <td>9</td>\n",
              "      <td>2</td>\n",
              "      <td>0</td>\n",
              "      <td>11.512.255</td>\n",
              "      <td>-825.731</td>\n",
              "      <td>1.219512</td>\n",
              "    </tr>\n",
              "    <tr>\n",
              "      <th>2</th>\n",
              "      <td>3</td>\n",
              "      <td>Banten</td>\n",
              "      <td>Jawa</td>\n",
              "      <td>BT</td>\n",
              "      <td>Serang</td>\n",
              "      <td>11704877</td>\n",
              "      <td>1298</td>\n",
              "      <td>84</td>\n",
              "      <td>4</td>\n",
              "      <td>1</td>\n",
              "      <td>106.160.889</td>\n",
              "      <td>-6.315.299</td>\n",
              "      <td>6.471495</td>\n",
              "    </tr>\n",
              "    <tr>\n",
              "      <th>3</th>\n",
              "      <td>4</td>\n",
              "      <td>Bengkulu</td>\n",
              "      <td>Sumatra</td>\n",
              "      <td>BE</td>\n",
              "      <td>Bengkulu</td>\n",
              "      <td>1844800</td>\n",
              "      <td>93</td>\n",
              "      <td>0</td>\n",
              "      <td>0</td>\n",
              "      <td>0</td>\n",
              "      <td>102.315.674</td>\n",
              "      <td>-3.414.725</td>\n",
              "      <td>0.000000</td>\n",
              "    </tr>\n",
              "    <tr>\n",
              "      <th>4</th>\n",
              "      <td>5</td>\n",
              "      <td>DI Yogyakarta</td>\n",
              "      <td>Jawa</td>\n",
              "      <td>YO</td>\n",
              "      <td>Yogyakarta</td>\n",
              "      <td>3553100</td>\n",
              "      <td>1134</td>\n",
              "      <td>22</td>\n",
              "      <td>2</td>\n",
              "      <td>1</td>\n",
              "      <td>110.390.625</td>\n",
              "      <td>-7.863.382</td>\n",
              "      <td>1.940035</td>\n",
              "    </tr>\n",
              "  </tbody>\n",
              "</table>\n",
              "</div>"
            ],
            "text/plain": [
              "   province_id  province_name  ...    latitude Positive_Rate\n",
              "0            1           Aceh  ...   3.869.994      4.651163\n",
              "1            2           Bali  ...    -825.731      1.219512\n",
              "2            3         Banten  ...  -6.315.299      6.471495\n",
              "3            4       Bengkulu  ...  -3.414.725      0.000000\n",
              "4            5  DI Yogyakarta  ...  -7.863.382      1.940035\n",
              "\n",
              "[5 rows x 13 columns]"
            ]
          },
          "metadata": {},
          "execution_count": 40
        }
      ]
    },
    {
      "cell_type": "code",
      "metadata": {
        "colab": {
          "base_uri": "https://localhost:8080/",
          "height": 532
        },
        "id": "Do49mve0PJ6j",
        "outputId": "d28ac072-d424-4a0c-ccb7-590a50f120b5"
      },
      "source": [
        "df2.plot(x=\"province_name\", y=\"Positive_Rate\",\n",
        "          kind ='bar', \n",
        "          figsize=(10, 6),\n",
        "          alpha=0.7,\n",
        "         )\n",
        "\n",
        "plt.title('Positive Rate')\n",
        "plt.ylabel('Rate (in percent)')\n",
        "plt.xlabel('Province')\n",
        "\n",
        "plt.show()"
      ],
      "execution_count": 41,
      "outputs": [
        {
          "output_type": "display_data",
          "data": {
            "image/png": "[encoded data removed]",
            "text/plain": [
              "<Figure size 720x432 with 1 Axes>"
            ]
          },
          "metadata": {
            "needs_background": "light"
          }
        }
      ]
    },
    {
      "cell_type": "code",
      "metadata": {
        "colab": {
          "base_uri": "https://localhost:8080/",
          "height": 142
        },
        "id": "uSnTeT8nQNFm",
        "outputId": "6bbbd0a3-b622-4505-9826-60181fe98608"
      },
      "source": [
        "df2_t = df2[['province_name', 'Positive_Rate']].sort_values(by = ['Positive_Rate'], ascending = False)\n",
        "df2_t.head(3)"
      ],
      "execution_count": 42,
      "outputs": [
        {
          "output_type": "execute_result",
          "data": {
            "text/html": [
              "<div>\n",
              "<style scoped>\n",
              "    .dataframe tbody tr th:only-of-type {\n",
              "        vertical-align: middle;\n",
              "    }\n",
              "\n",
              "    .dataframe tbody tr th {\n",
              "        vertical-align: top;\n",
              "    }\n",
              "\n",
              "    .dataframe thead th {\n",
              "        text-align: right;\n",
              "    }\n",
              "</style>\n",
              "<table border=\"1\" class=\"dataframe\">\n",
              "  <thead>\n",
              "    <tr style=\"text-align: right;\">\n",
              "      <th></th>\n",
              "      <th>province_name</th>\n",
              "      <th>Positive_Rate</th>\n",
              "    </tr>\n",
              "  </thead>\n",
              "  <tbody>\n",
              "    <tr>\n",
              "      <th>23</th>\n",
              "      <td>Papua</td>\n",
              "      <td>70.000000</td>\n",
              "    </tr>\n",
              "    <tr>\n",
              "      <th>14</th>\n",
              "      <td>Kalimantan Timur</td>\n",
              "      <td>64.705882</td>\n",
              "    </tr>\n",
              "    <tr>\n",
              "      <th>5</th>\n",
              "      <td>DKI Jakarta</td>\n",
              "      <td>44.198078</td>\n",
              "    </tr>\n",
              "  </tbody>\n",
              "</table>\n",
              "</div>"
            ],
            "text/plain": [
              "       province_name  Positive_Rate\n",
              "23             Papua      70.000000\n",
              "14  Kalimantan Timur      64.705882\n",
              "5        DKI Jakarta      44.198078"
            ]
          },
          "metadata": {},
          "execution_count": 42
        }
      ]
    },
    {
      "cell_type": "markdown",
      "metadata": {
        "id": "RXybUjlkqN4w"
      },
      "source": [
        "*Jawaban*\n",
        "\n",
        "Dapat dilihat 3 Provinsi dengan positive rate tertinggi yaitu Papua, Kalimantan Timur, dan DKI Jakarta.\n"
      ]
    },
    {
      "cell_type": "markdown",
      "metadata": {
        "id": "9VUMxDFBRqfJ"
      },
      "source": [
        "#**Soal 5**\n",
        "\n",
        "Dengan menggunakan pie chart, tampilkan persentase jumlah terkonfimasi positif untuk \n",
        "masing-masing pulau."
      ]
    },
    {
      "cell_type": "code",
      "metadata": {
        "colab": {
          "base_uri": "https://localhost:8080/",
          "height": 500
        },
        "id": "z1dV2EzCRuuX",
        "outputId": "ea460110-2485-4891-cca2-958425efc1e0"
      },
      "source": [
        "df2_island = df2.groupby('island', axis=0).sum()\n",
        "myexplode = [0.1, 0.1, 0.4, 0.2,0.5,0.1,0]\n",
        "df2_island['confirmed'].plot(kind='pie',\n",
        "                            figsize=(15, 8),\n",
        "                            autopct='%1.1f%%',\n",
        "                            startangle=90,\n",
        "                            shadow=True,\n",
        "                            labels=None,\n",
        "                            pctdistance=1.12,\n",
        "                            explode=myexplode\n",
        "                           )\n",
        "\n",
        "plt.title('Positive Rate by Island', y = 1)\n",
        "plt.legend(labels=df2_island.index, loc='upper right')\n",
        "plt.axis('equal')\n",
        "plt.show"
      ],
      "execution_count": 44,
      "outputs": [
        {
          "output_type": "execute_result",
          "data": {
            "text/plain": [
              "<function matplotlib.pyplot.show>"
            ]
          },
          "metadata": {},
          "execution_count": 44
        },
        {
          "output_type": "display_data",
          "data": {
            "image/png": "[encoded data removed]",
            "text/plain": [
              "<Figure size 1080x576 with 1 Axes>"
            ]
          },
          "metadata": {}
        }
      ]
    },
    {
      "cell_type": "code",
      "metadata": {
        "id": "PSJA0-0UXQnh"
      },
      "source": [
        ""
      ],
      "execution_count": null,
      "outputs": []
    }
  ]
}